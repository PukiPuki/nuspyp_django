{
 "cells": [
  {
   "cell_type": "code",
   "execution_count": 16,
   "metadata": {},
   "outputs": [
    {
     "ename": "TypeError",
     "evalue": "'module' object is not callable",
     "output_type": "error",
     "traceback": [
      "\u001b[0;31m------------------------------------------------------------------\u001b[0m",
      "\u001b[0;31mTypeError\u001b[0m                        Traceback (most recent call last)",
      "\u001b[0;32m<ipython-input-16-c235f26f9f3a>\u001b[0m in \u001b[0;36m<module>\u001b[0;34m()\u001b[0m\n\u001b[1;32m     16\u001b[0m \u001b[0msingle_image\u001b[0m \u001b[0;34m=\u001b[0m \u001b[0mimg2\u001b[0m\u001b[0;34m.\u001b[0m\u001b[0msequence\u001b[0m\u001b[0;34m[\u001b[0m\u001b[0;36m0\u001b[0m\u001b[0;34m]\u001b[0m\u001b[0;34m;\u001b[0m\u001b[0;34m\u001b[0m\u001b[0m\n\u001b[1;32m     17\u001b[0m \u001b[0;34m\u001b[0m\u001b[0m\n\u001b[0;32m---> 18\u001b[0;31m \u001b[0mwand\u001b[0m\u001b[0;34m.\u001b[0m\u001b[0mdisplay\u001b[0m\u001b[0;34m(\u001b[0m\u001b[0msingle_image\u001b[0m\u001b[0;34m)\u001b[0m\u001b[0;34m;\u001b[0m\u001b[0;34m\u001b[0m\u001b[0m\n\u001b[0m\u001b[1;32m     19\u001b[0m \u001b[0;34m\u001b[0m\u001b[0m\n\u001b[1;32m     20\u001b[0m \u001b[0mplt\u001b[0m\u001b[0;34m.\u001b[0m\u001b[0mimshow\u001b[0m\u001b[0;34m(\u001b[0m\u001b[0msingle_image\u001b[0m\u001b[0;34m)\u001b[0m\u001b[0;34m\u001b[0m\u001b[0m\n",
      "\u001b[0;31mTypeError\u001b[0m: 'module' object is not callable"
     ]
    }
   ],
   "source": [
    "from django.shortcuts import render\n",
    "from django.http import HttpResponse\n",
    "import os\n",
    "from IPython.display import Image as ShowImage\n",
    "import matplotlib.pyplot as plt\n",
    "import matplotlib.image as mpimg\n",
    "import numpy as np\n",
    "\n",
    "\n",
    "from tesserwrap import Tesseract\n",
    "from PIL import Image\n",
    "from wand.image import Image as dog\n",
    "import wand\n",
    "\n",
    "img2 = dog(filename='/home/df/projects/django/nuspyp/tesseracttest/source.pdf');\n",
    "single_image = img2.sequence[0];\n",
    "\n",
    "wand.display(single_image);\n",
    "\n",
    "plt.imshow(single_image)\n",
    "\n",
    "def index(request):\n",
    "    #from tesserwrap import Tesseract\n",
    "    #from PIL import Image\n",
    "    img = Image.open(\"/home/df/projects/django/nuspyp/tesseracttest/test.png\");\n",
    "    tr = Tesseract();\n",
    "    tr.ocr_image(img);\n",
    "\n",
    "    img2 = dog(filename='/home/df/projects/django/nuspyp/tesseracttest/source.pdf');\n",
    "    single_image = img2[0];\n",
    "    ShowImage(single_image) \n",
    "    tr.ocr_image(single_image);\n",
    "\n",
    "    return HttpResponse(tr.get_text());\n",
    "    #return HttpResponse(tr.get_text());\n",
    "    #dir_path = os.path.dirname(os.path.realpath(__file__))\n",
    "    #return HttpResponse(dir_path);\n",
    "    # Create your views here.\n"
   ]
  },
  {
   "cell_type": "code",
   "execution_count": null,
   "metadata": {
    "collapsed": true
   },
   "outputs": [],
   "source": []
  }
 ],
 "metadata": {
  "kernelspec": {
   "display_name": "Python 3",
   "language": "python",
   "name": "python3"
  },
  "language_info": {
   "codemirror_mode": {
    "name": "ipython",
    "version": 3
   },
   "file_extension": ".py",
   "mimetype": "text/x-python",
   "name": "python",
   "nbconvert_exporter": "python",
   "pygments_lexer": "ipython3",
   "version": "3.6.1"
  }
 },
 "nbformat": 4,
 "nbformat_minor": 2
}
